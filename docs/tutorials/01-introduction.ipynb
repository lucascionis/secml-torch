{
 "cells": [
  {
   "cell_type": "markdown",
   "id": "4f46692f",
   "metadata": {},
   "source": [
    "# Train DNNs with SecML-Torch"
   ]
  },
  {
   "cell_type": "markdown",
   "id": "2d370ca2",
   "metadata": {},
   "source": [
    "In this notebook, we will use the basic training functionalities of SecML-Torch to train a regular PyTorch Deep Neural Network (DNN) classifier."
   ]
  },
  {
   "cell_type": "code",
   "execution_count": null,
   "id": "cf9dc64b",
   "metadata": {},
   "outputs": [],
   "source": [
    "import torch\n",
    "\n",
    "\n",
    "class MNISTNet(torch.nn.Module):\n",
    "    def __init__(self):\n",
    "        super().__init__()\n",
    "        self.fc1 = torch.nn.Linear(784, 200)\n",
    "        self.fc2 = torch.nn.Linear(200, 200)\n",
    "        self.fc3 = torch.nn.Linear(200, 10)\n",
    "\n",
    "    def forward(self, x):\n",
    "        x = x.flatten(1)\n",
    "        x = torch.relu(self.fc1(x))\n",
    "        x = torch.relu(self.fc2(x))\n",
    "        return self.fc3(x)\n",
    "\n",
    "\n",
    "net = MNISTNet()\n",
    "device = \"cpu\"\n",
    "net = net.to(device)\n"
   ]
  },
  {
   "cell_type": "code",
   "execution_count": 1,
   "id": "e6a48a17",
   "metadata": {},
   "outputs": [],
   "source": [
    "%%capture\n",
    "import torchvision.datasets\n",
    "from torch.utils.data import DataLoader\n",
    "\n",
    "dataset_path = \"data/datasets/\"\n",
    "training_dataset = torchvision.datasets.MNIST(\n",
    "    transform=torchvision.transforms.ToTensor(),\n",
    "    train=True,\n",
    "    root=dataset_path,\n",
    "    download=True,\n",
    ")\n",
    "training_data_loader = DataLoader(training_dataset, batch_size=64, shuffle=False)\n",
    "test_dataset = torchvision.datasets.MNIST(\n",
    "    transform=torchvision.transforms.ToTensor(),\n",
    "    train=False,\n",
    "    root=dataset_path,\n",
    "    download=True,\n",
    ")\n",
    "test_data_loader = DataLoader(test_dataset, batch_size=64, shuffle=False)\n"
   ]
  },
  {
   "cell_type": "code",
   "execution_count": null,
   "id": "c810215a",
   "metadata": {},
   "outputs": [
    {
     "name": "stdout",
     "output_type": "stream",
     "text": [
      "test accuracy:  tensor(0.9517)\n"
     ]
    }
   ],
   "source": [
    "from pathlib import Path\n",
    "\n",
    "import torch\n",
    "from secmlt.metrics.classification import Accuracy\n",
    "from secmlt.models.pytorch.base_pytorch_nn import BasePytorchClassifier\n",
    "from secmlt.models.pytorch.base_pytorch_trainer import BasePyTorchTrainer\n",
    "from torch.optim import Adam\n",
    "\n",
    "\n",
    "\n",
    "optimizer = Adam(lr=1e-3, params=net.parameters())\n",
    "\n",
    "# Training MNIST model\n",
    "trainer = BasePyTorchTrainer(optimizer, epochs=1)\n",
    "model = BasePytorchClassifier(net, trainer=trainer)\n",
    "model.train(training_data_loader)\n",
    "\n",
    "# Test MNIST model\n",
    "accuracy = Accuracy()(model, test_data_loader)\n",
    "print(\"test accuracy: \", accuracy)\n",
    "\n",
    "model_path = Path(\"data/models/mnist\")\n",
    "if not model_path.exists():\n",
    "    model_path.mkdir(parents=True, exist_ok=True)\n",
    "torch.save(model.model.state_dict(), model_path / \"mnist_model.pt\")\n"
   ]
  }
 ],
 "metadata": {
  "kernelspec": {
   "display_name": "secmlt",
   "language": "python",
   "name": "python3"
  },
  "language_info": {
   "codemirror_mode": {
    "name": "ipython",
    "version": 3
   },
   "file_extension": ".py",
   "mimetype": "text/x-python",
   "name": "python",
   "nbconvert_exporter": "python",
   "pygments_lexer": "ipython3",
   "version": "3.11.9"
  }
 },
 "nbformat": 4,
 "nbformat_minor": 5
}
