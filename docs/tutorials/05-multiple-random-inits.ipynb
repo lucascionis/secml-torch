{
 "cells": [
  {
   "metadata": {},
   "cell_type": "markdown",
   "source": [
    "# Restarts and Ensembles: Evaluating Robustness with Multiple PGD Runs\n",
    "\n",
    "This tutorial shows how to:\n",
    "- Run PGD with multiple random initializations (restarts).\n",
    "- Aggregate multiple fixed-ε attack runs using ensembling to obtain aggregated evaluation metrics.\n",
    "\n",
    "We will:\n",
    "- Load the CIFAR-10 test set and a robust model from RobustBench.\n",
    "- Run PGD multiple times with `random_start=True`.\n",
    "- Compute robust accuracy (RA) and attack success rate (ASR) across runs using ensemble metrics.\n",
    "- Use `FixedEpsilonEnsemble` to select per-sample the strongest adversarial example among runs."
   ],
   "id": "f683a59ea8f0323a"
  },
  {
   "cell_type": "code",
   "metadata": {
    "ExecuteTime": {
     "end_time": "2025-09-12T10:23:06.404632Z",
     "start_time": "2025-09-12T10:23:06.400278Z"
    }
   },
   "source": [
    "%%capture --no-stdout\n",
    "try:\n",
    "    import secmlt\n",
    "except ImportError:\n",
    "   %pip install secml-torch[foolbox,adv_lib]\n",
    "\n",
    "try:\n",
    "  import robustbench\n",
    "except ImportError:\n",
    "   %pip install robustbench\n",
    "   %pip install git+https://github.com/fra31/auto-attack\n"
   ],
   "id": "b2b7f5a861c9df4a",
   "outputs": [],
   "execution_count": 10
  },
  {
   "cell_type": "code",
   "metadata": {
    "ExecuteTime": {
     "end_time": "2025-09-12T10:23:06.419161Z",
     "start_time": "2025-09-12T10:23:06.415395Z"
    }
   },
   "source": [
    "# Imports\n",
    "import torch\n",
    "import torchvision\n",
    "import torchvision.transforms as transforms\n",
    "from torch.utils.data import DataLoader, Subset\n",
    "\n",
    "from secmlt.models.pytorch.base_pytorch_nn import BasePytorchClassifier\n",
    "from secmlt.metrics.classification import (\n",
    "    Accuracy,\n",
    "    AttackSuccessRate,\n",
    "    AccuracyEnsemble,\n",
    "    EnsembleSuccessRate,\n",
    ")\n",
    "from secmlt.adv.backends import Backends\n",
    "from secmlt.adv.evasion.perturbation_models import LpPerturbationModels\n",
    "from secmlt.adv.evasion.pgd import PGD\n",
    "from secmlt.adv.evasion.aggregators.ensemble import FixedEpsilonEnsemble\n",
    "\n",
    "from robustbench.utils import load_model\n",
    "\n",
    "device = \"cuda\" if torch.cuda.is_available() else \"cpu\"\n",
    "dataset_path = \"data/datasets/\"  # relative to this notebook's folder\n",
    "print(f\"Using device: {device}\")"
   ],
   "id": "e639a0f6826f2755",
   "outputs": [
    {
     "name": "stdout",
     "output_type": "stream",
     "text": [
      "Using device: cpu\n"
     ]
    }
   ],
   "execution_count": 11
  },
  {
   "cell_type": "markdown",
   "metadata": {},
   "source": [
    "## Data and Robust Model (CIFAR-10)\n\n",
    "We load a small CIFAR-10 test subset and a robust model from RobustBench (L∞ threat model),\n",
    "then wrap it with SecML‑Torch's `BasePytorchClassifier`."
   ],
   "id": "893b10cf931cca03"
  },
  {
   "cell_type": "code",
   "metadata": {
    "ExecuteTime": {
     "end_time": "2025-09-12T10:23:07.322734Z",
     "start_time": "2025-09-12T10:23:06.431404Z"
    }
   },
   "source": [
    "%%capture --no-stdout\n",
    "\n",
    "# Load CIFAR-10 test subset\n",
    "transform = transforms.Compose([transforms.ToTensor()])\n",
    "test_dataset = torchvision.datasets.CIFAR10(\n",
    "    root=dataset_path, train=False, download=True, transform=transform\n",
    ")\n",
    "num_samples = 20\n",
    "batch_size = num_samples // 2\n",
    "test_subset = Subset(test_dataset, list(range(num_samples)))\n",
    "test_loader = DataLoader(test_subset, batch_size=batch_size, shuffle=False)\n",
    "print(f\"Loaded {len(test_subset)} samples from CIFAR-10 test set\")\n",
    "\n",
    "# Load a robust model from RobustBench (L∞) and wrap it\n",
    "net = load_model(model_name=\"Gowal2021Improving_R18_ddpm_100m\", dataset=\"cifar10\", threat_model=\"Linf\")\n",
    "net = net.to(device).eval()\n",
    "model = BasePytorchClassifier(net)\n",
    "print(\"Loaded robust model: Gowal2021Improving_R18_ddpm_100m (CIFAR-10, Linf)\")\n",
    "\n",
    "# Baseline accuracy on clean data\n",
    "clean_acc = Accuracy()(model, test_loader)\n",
    "print(f\"Clean accuracy: {clean_acc.item():.4f} ({clean_acc.item() * 100:.2f}%)\")"
   ],
   "id": "c8910717fb35b0b0",
   "outputs": [
    {
     "name": "stdout",
     "output_type": "stream",
     "text": [
      "Files already downloaded and verified\n",
      "Loaded 20 samples from CIFAR-10 test set\n",
      "Loaded robust model: Gowal2021Improving_R18_ddpm_100m (CIFAR-10, Linf)\n",
      "Clean accuracy: 1.0000 (100.00%)\n"
     ]
    }
   ],
   "execution_count": 12
  },
  {
   "cell_type": "markdown",
   "metadata": {},
   "source": [
    "## PGD with Random Initialization\n",
    "\n",
    "Multiple random starts could mitigate local optima in non-convex loss landscapes and often increase attack success.\n",
    "Here we configure PGD (fixed-ε, L∞) and run it several times with `random_start=True`."
   ],
   "id": "6e86b5951013a170"
  },
  {
   "cell_type": "code",
   "metadata": {
    "ExecuteTime": {
     "end_time": "2025-09-12T10:23:07.337081Z",
     "start_time": "2025-09-12T10:23:07.334339Z"
    }
   },
   "source": [
    "# PGD configuration (L∞)\n",
    "epsilon = 8 / 255     # Max L∞ perturbation\n",
    "num_steps = 20        # PGD iterations\n",
    "step_size = 4 / 255   # Step size per iteration\n",
    "perturbation_model = LpPerturbationModels.LINF\n",
    "\n",
    "print(\"Attack configuration:\")\n",
    "print(f\"  - Epsilon: {epsilon:.4f} ({epsilon * 255:.1f}/255)\")\n",
    "print(f\"  - Steps:   {num_steps}\")\n",
    "print(f\"  - Step sz: {step_size:.4f} ({step_size * 255:.1f}/255)\")\n",
    "\n",
    "pgd = PGD(\n",
    "    perturbation_model=perturbation_model,\n",
    "    epsilon=epsilon,\n",
    "    num_steps=num_steps,\n",
    "    step_size=step_size,\n",
    "    random_start=True,\n",
    "    backend=Backends.NATIVE,\n",
    ")\n",
    "print(\"PGD (native) ready with random_start=True\")"
   ],
   "id": "fb45a421738b386b",
   "outputs": [
    {
     "name": "stdout",
     "output_type": "stream",
     "text": [
      "Attack configuration:\n",
      "  - Epsilon: 0.0314 (8.0/255)\n",
      "  - Steps:   20\n",
      "  - Step sz: 0.0157 (4.0/255)\n",
      "PGD (native) ready with random_start=True\n"
     ]
    }
   ],
   "execution_count": 13
  },
  {
   "cell_type": "code",
   "metadata": {
    "ExecuteTime": {
     "end_time": "2025-09-12T10:23:16.328498Z",
     "start_time": "2025-09-12T10:23:07.348824Z"
    }
   },
   "source": [
    "# Single PGD run\n",
    "adv_loader_single = pgd(model, test_loader)\n",
    "acc_single = Accuracy()(model, adv_loader_single)\n",
    "asr_single = AttackSuccessRate()(model, adv_loader_single)\n",
    "print(\"=== Single-run PGD ===\")\n",
    "print(f\"RA (single):  {acc_single.item():.4f} ({acc_single.item() * 100:.2f}%)\")\n",
    "print(f\"ASR (single): {asr_single.item():.4f} ({asr_single.item() * 100:.2f}%)\")"
   ],
   "id": "be783c5765642e0b",
   "outputs": [
    {
     "name": "stdout",
     "output_type": "stream",
     "text": [
      "=== Single-run PGD ===\n",
      "RA (single):  0.6500 (65.00%)\n",
      "ASR (single): 0.3500 (35.00%)\n"
     ]
    }
   ],
   "execution_count": 14
  },
  {
   "cell_type": "markdown",
   "metadata": {},
   "source": [
    "### Multiple Restarts: Evaluation Across Runs\n\n",
    "We now perform several runs (restarts) and compute ensemble metrics across runs:\n",
    "- `AccuracyEnsemble` gives robust accuracy across runs.\n",
    "- `EnsembleSuccessRate` gives success rate across runs across runs."
   ],
   "id": "c821b91d58dd23e6"
  },
  {
   "cell_type": "code",
   "metadata": {
    "ExecuteTime": {
     "end_time": "2025-09-12T10:23:44.420303Z",
     "start_time": "2025-09-12T10:23:16.346210Z"
    }
   },
   "source": [
    "num_runs = 3\n",
    "adv_loaders = []\n",
    "for i in range(num_runs):\n",
    "    print(f\"Running PGD restart {i+1}/{num_runs}...\")\n",
    "    adv_loaders.append(pgd(model, test_loader))\n",
    "    acc_single = Accuracy()(model, adv_loaders[i])\n",
    "    print(f\"Single run: accuracy {acc_single.item():.4f} ({acc_single.item() * 100:.2f}%)\")\n",
    "\n",
    "ra_ensemble = AccuracyEnsemble()(model, adv_loaders)\n",
    "asr_ensemble = EnsembleSuccessRate()(model, adv_loaders)\n",
    "\n",
    "print(\"=== Ensemble over multiple PGD runs ===\")\n",
    "print(f\"RA (ensemble across runs):  {ra_ensemble.item():.4f} ({ra_ensemble.item() * 100:.2f}%)\")\n",
    "print(f\"ASR (ensemble across runs): {asr_ensemble.item():.4f} ({asr_ensemble.item() * 100:.2f}%)\")"
   ],
   "id": "7c2d707788782ec3",
   "outputs": [
    {
     "name": "stdout",
     "output_type": "stream",
     "text": [
      "Running PGD restart 1/3...\n",
      "Single run: accuracy 0.6500 (65.00%)\n",
      "Running PGD restart 2/3...\n",
      "Single run: accuracy 0.6500 (65.00%)\n",
      "Running PGD restart 3/3...\n",
      "Single run: accuracy 0.6500 (65.00%)\n",
      "=== Ensemble over multiple PGD runs ===\n",
      "RA (ensemble worst-case):  0.6500 (65.00%)\n",
      "ASR (ensemble worst-case): 0.3500 (35.00%)\n"
     ]
    }
   ],
   "execution_count": 15
  },
  {
   "cell_type": "markdown",
   "metadata": {},
   "source": [
    "## Fixed-ε Ensembling: Select Strongest Adversarial per Sample\n\n",
    "For fixed-ε attacks like PGD, we can build a per-sample ensemble that picks the adversarial example with the worst loss among multiple runs.\n",
    "This yields a new dataloader containing the *selected* adversarial examples across runs."
   ],
   "id": "d34d7c100c310876"
  },
  {
   "cell_type": "code",
   "metadata": {
    "ExecuteTime": {
     "end_time": "2025-09-12T10:23:46.485468Z",
     "start_time": "2025-09-12T10:23:44.438052Z"
    }
   },
   "source": [
    "criterion = FixedEpsilonEnsemble(loss_fn=torch.nn.CrossEntropyLoss(), maximize=True, y_target=None)\n",
    "best_advs_loader = criterion(model, test_loader, adv_loaders)\n",
    "\n",
    "ra_best = Accuracy()(model, best_advs_loader)\n",
    "asr_best = AttackSuccessRate()(model, best_advs_loader)\n",
    "\n",
    "print(\"=== Fixed-ε ensemble selection (per-sample strongest) ===\")\n",
    "print(f\"RA (best-advs):  {ra_best.item():.4f} ({ra_best.item() * 100:.2f}%)\")\n",
    "print(f\"ASR (best-advs): {asr_best.item():.4f} ({asr_best.item() * 100:.2f}%)\")"
   ],
   "id": "cbdcf903eddadcf5",
   "outputs": [
    {
     "name": "stdout",
     "output_type": "stream",
     "text": [
      "=== Fixed-ε ensemble selection (per-sample strongest) ===\n",
      "RA (best-advs):  0.6500 (65.00%)\n",
      "ASR (best-advs): 0.3500 (35.00%)\n"
     ]
    }
   ],
   "execution_count": 16
  }
 ],
 "metadata": {
  "kernelspec": {
   "display_name": "Python 3",
   "language": "python",
   "name": "python3"
  },
  "language_info": {
   "codemirror_mode": {
    "name": "ipython",
    "version": 3
   },
   "file_extension": ".py",
   "mimetype": "text/x-python",
   "name": "python",
   "nbconvert_exporter": "python",
   "pygments_lexer": "ipython3",
   "version": "3.10"
  }
 },
 "nbformat": 4,
 "nbformat_minor": 5
}
